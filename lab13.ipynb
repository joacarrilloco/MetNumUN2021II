{
  "nbformat": 4,
  "nbformat_minor": 0,
  "metadata": {
    "colab": {
      "name": "lab13.ipynb",
      "provenance": [],
      "collapsed_sections": []
    },
    "kernelspec": {
      "name": "python3",
      "display_name": "Python 3"
    },
    "language_info": {
      "name": "python"
    }
  },
  "cells": [
    {
      "cell_type": "markdown",
      "source": [
        "# PLU SymPy"
      ],
      "metadata": {
        "id": "2b0X1rlVghnD"
      }
    },
    {
      "cell_type": "code",
      "source": [
        "from sympy import Matrix,init_printing, eye, zeros\n",
        "init_printing()"
      ],
      "metadata": {
        "id": "5YpJlcuLtIBn"
      },
      "execution_count": 197,
      "outputs": []
    },
    {
      "cell_type": "code",
      "source": [
        "import sympy \n",
        "import numpy as np\n",
        "\n",
        "def PLU(A,k):\n",
        "\n",
        "  N = A.shape[0]\n",
        "  L = sympy.eye(N)\n",
        "  U = A.copy()\n",
        "  P = sympy.eye(N)\n",
        "  \n",
        "  for j in range(k):\n",
        "    row = np.argmax( np.abs(U[j:,j]))+j\n",
        "\n",
        "    Aux = U[j,:]\n",
        "    U[j,:] = U[row,:]\n",
        "    U[row,:] = Aux\n",
        "\n",
        "    Pj = sympy.eye(N)\n",
        "    Aux = Pj[j,:]\n",
        "    Pj[j,:] = Pj[row,:]\n",
        "    Pj[row,:] = Aux\n",
        "\n",
        "    Lj = sympy.eye(N)\n",
        "    gamma = U[j+1:, j] / U[j,j]\n",
        "    Lj[j+1:,j] = -gamma    \n",
        "\n",
        "    U = Lj @ U\n",
        "\n",
        "    P = Pj @ P\n",
        "\n",
        "    L = L @ Pj @Lj \n",
        "\n",
        "  L = P @ L\n",
        "  return P,L,U"
      ],
      "metadata": {
        "id": "1u2PJf3otKcc"
      },
      "execution_count": 198,
      "outputs": []
    },
    {
      "cell_type": "code",
      "source": [
        "A = Matrix([[-2,2,-1], [6,-6,7], [3,-8,4]])\n",
        "A"
      ],
      "metadata": {
        "colab": {
          "base_uri": "https://localhost:8080/",
          "height": 79
        },
        "id": "7HLfQMyxz4h9",
        "outputId": "4e055800-fabe-4579-94d9-03899c7f0df3"
      },
      "execution_count": 199,
      "outputs": [
        {
          "output_type": "execute_result",
          "data": {
            "text/latex": "$\\displaystyle \\left[\\begin{matrix}-2 & 2 & -1\\\\6 & -6 & 7\\\\3 & -8 & 4\\end{matrix}\\right]$",
            "text/plain": [
              "⎡-2  2   -1⎤\n",
              "⎢          ⎥\n",
              "⎢6   -6  7 ⎥\n",
              "⎢          ⎥\n",
              "⎣3   -8  4 ⎦"
            ]
          },
          "metadata": {},
          "execution_count": 199
        }
      ]
    },
    {
      "cell_type": "code",
      "source": [
        "P,L,U = PLU(A,0)"
      ],
      "metadata": {
        "id": "6leWL6-jtRkF"
      },
      "execution_count": 200,
      "outputs": []
    },
    {
      "cell_type": "code",
      "source": [
        "P"
      ],
      "metadata": {
        "colab": {
          "base_uri": "https://localhost:8080/",
          "height": 79
        },
        "id": "v2_Euu2Dy6rt",
        "outputId": "f82d6309-b5d2-4cb4-e8fe-b19372cb3cb3"
      },
      "execution_count": 201,
      "outputs": [
        {
          "output_type": "execute_result",
          "data": {
            "text/latex": "$\\displaystyle \\left[\\begin{matrix}1 & 0 & 0\\\\0 & 1 & 0\\\\0 & 0 & 1\\end{matrix}\\right]$",
            "text/plain": [
              "⎡1  0  0⎤\n",
              "⎢       ⎥\n",
              "⎢0  1  0⎥\n",
              "⎢       ⎥\n",
              "⎣0  0  1⎦"
            ]
          },
          "metadata": {},
          "execution_count": 201
        }
      ]
    },
    {
      "cell_type": "code",
      "source": [
        "L"
      ],
      "metadata": {
        "colab": {
          "base_uri": "https://localhost:8080/",
          "height": 79
        },
        "id": "wUIt2RTTy3qG",
        "outputId": "3710d442-539d-4e33-9591-8141e55ebbc4"
      },
      "execution_count": 202,
      "outputs": [
        {
          "output_type": "execute_result",
          "data": {
            "text/latex": "$\\displaystyle \\left[\\begin{matrix}1 & 0 & 0\\\\0 & 1 & 0\\\\0 & 0 & 1\\end{matrix}\\right]$",
            "text/plain": [
              "⎡1  0  0⎤\n",
              "⎢       ⎥\n",
              "⎢0  1  0⎥\n",
              "⎢       ⎥\n",
              "⎣0  0  1⎦"
            ]
          },
          "metadata": {},
          "execution_count": 202
        }
      ]
    },
    {
      "cell_type": "code",
      "source": [
        "U"
      ],
      "metadata": {
        "colab": {
          "base_uri": "https://localhost:8080/",
          "height": 79
        },
        "id": "WU6c9cVoy4md",
        "outputId": "a3c1a005-c0f3-4e97-eeba-559a30984f85"
      },
      "execution_count": 203,
      "outputs": [
        {
          "output_type": "execute_result",
          "data": {
            "text/latex": "$\\displaystyle \\left[\\begin{matrix}-2 & 2 & -1\\\\6 & -6 & 7\\\\3 & -8 & 4\\end{matrix}\\right]$",
            "text/plain": [
              "⎡-2  2   -1⎤\n",
              "⎢          ⎥\n",
              "⎢6   -6  7 ⎥\n",
              "⎢          ⎥\n",
              "⎣3   -8  4 ⎦"
            ]
          },
          "metadata": {},
          "execution_count": 203
        }
      ]
    },
    {
      "cell_type": "code",
      "source": [
        "P,L,U = PLU(A,1)"
      ],
      "metadata": {
        "id": "VwkeklsnzXm9"
      },
      "execution_count": 204,
      "outputs": []
    },
    {
      "cell_type": "code",
      "source": [
        "P"
      ],
      "metadata": {
        "colab": {
          "base_uri": "https://localhost:8080/",
          "height": 79
        },
        "id": "mmhvYJg6zZGl",
        "outputId": "57f7dca1-923a-4361-e765-7a7e9c098448"
      },
      "execution_count": 205,
      "outputs": [
        {
          "output_type": "execute_result",
          "data": {
            "text/latex": "$\\displaystyle \\left[\\begin{matrix}0 & 1 & 0\\\\1 & 0 & 0\\\\0 & 0 & 1\\end{matrix}\\right]$",
            "text/plain": [
              "⎡0  1  0⎤\n",
              "⎢       ⎥\n",
              "⎢1  0  0⎥\n",
              "⎢       ⎥\n",
              "⎣0  0  1⎦"
            ]
          },
          "metadata": {},
          "execution_count": 205
        }
      ]
    },
    {
      "cell_type": "code",
      "source": [
        "L"
      ],
      "metadata": {
        "colab": {
          "base_uri": "https://localhost:8080/",
          "height": 79
        },
        "id": "GYVPxQcfzZud",
        "outputId": "e18b4e10-33b1-40b1-ad1f-d6c1c366f959"
      },
      "execution_count": 206,
      "outputs": [
        {
          "output_type": "execute_result",
          "data": {
            "text/latex": "$\\displaystyle \\left[\\begin{matrix}1 & 0 & 0\\\\\\frac{1}{3} & 1 & 0\\\\- \\frac{1}{2} & 0 & 1\\end{matrix}\\right]$",
            "text/plain": [
              "⎡ 1    0  0⎤\n",
              "⎢          ⎥\n",
              "⎢1/3   1  0⎥\n",
              "⎢          ⎥\n",
              "⎣-1/2  0  1⎦"
            ]
          },
          "metadata": {},
          "execution_count": 206
        }
      ]
    },
    {
      "cell_type": "code",
      "source": [
        "U"
      ],
      "metadata": {
        "colab": {
          "base_uri": "https://localhost:8080/",
          "height": 79
        },
        "id": "Ii_G1E-fzauc",
        "outputId": "c398524d-d055-482b-95b8-377bb6076b94"
      },
      "execution_count": 207,
      "outputs": [
        {
          "output_type": "execute_result",
          "data": {
            "text/latex": "$\\displaystyle \\left[\\begin{matrix}6 & -6 & 7\\\\0 & 0 & \\frac{4}{3}\\\\0 & -5 & \\frac{1}{2}\\end{matrix}\\right]$",
            "text/plain": [
              "⎡6  -6   7 ⎤\n",
              "⎢          ⎥\n",
              "⎢0  0   4/3⎥\n",
              "⎢          ⎥\n",
              "⎣0  -5  1/2⎦"
            ]
          },
          "metadata": {},
          "execution_count": 207
        }
      ]
    },
    {
      "cell_type": "code",
      "source": [
        "P,L,U = PLU(A,2)"
      ],
      "metadata": {
        "id": "yxpCf2HCzkL-"
      },
      "execution_count": 208,
      "outputs": []
    },
    {
      "cell_type": "code",
      "source": [
        "P"
      ],
      "metadata": {
        "colab": {
          "base_uri": "https://localhost:8080/",
          "height": 79
        },
        "id": "mP89CHIDznos",
        "outputId": "4ebf6a73-b662-4461-e379-4d6a59d8923a"
      },
      "execution_count": 209,
      "outputs": [
        {
          "output_type": "execute_result",
          "data": {
            "text/latex": "$\\displaystyle \\left[\\begin{matrix}0 & 1 & 0\\\\0 & 0 & 1\\\\1 & 0 & 0\\end{matrix}\\right]$",
            "text/plain": [
              "⎡0  1  0⎤\n",
              "⎢       ⎥\n",
              "⎢0  0  1⎥\n",
              "⎢       ⎥\n",
              "⎣1  0  0⎦"
            ]
          },
          "metadata": {},
          "execution_count": 209
        }
      ]
    },
    {
      "cell_type": "code",
      "source": [
        "L"
      ],
      "metadata": {
        "colab": {
          "base_uri": "https://localhost:8080/",
          "height": 79
        },
        "id": "bZvdCOMgzoh2",
        "outputId": "48bd9d42-317a-4c51-806c-4addad683ee0"
      },
      "execution_count": 210,
      "outputs": [
        {
          "output_type": "execute_result",
          "data": {
            "text/latex": "$\\displaystyle \\left[\\begin{matrix}1 & 0 & 0\\\\- \\frac{1}{2} & 1 & 0\\\\\\frac{1}{3} & 0 & 1\\end{matrix}\\right]$",
            "text/plain": [
              "⎡ 1    0  0⎤\n",
              "⎢          ⎥\n",
              "⎢-1/2  1  0⎥\n",
              "⎢          ⎥\n",
              "⎣1/3   0  1⎦"
            ]
          },
          "metadata": {},
          "execution_count": 210
        }
      ]
    },
    {
      "cell_type": "code",
      "source": [
        "U"
      ],
      "metadata": {
        "colab": {
          "base_uri": "https://localhost:8080/",
          "height": 79
        },
        "id": "O64hZyl7zqE8",
        "outputId": "eede3281-6fff-4606-c7a3-50f8caf2aa86"
      },
      "execution_count": 211,
      "outputs": [
        {
          "output_type": "execute_result",
          "data": {
            "text/latex": "$\\displaystyle \\left[\\begin{matrix}6 & -6 & 7\\\\0 & -5 & \\frac{1}{2}\\\\0 & 0 & \\frac{4}{3}\\end{matrix}\\right]$",
            "text/plain": [
              "⎡6  -6   7 ⎤\n",
              "⎢          ⎥\n",
              "⎢0  -5  1/2⎥\n",
              "⎢          ⎥\n",
              "⎣0  0   4/3⎦"
            ]
          },
          "metadata": {},
          "execution_count": 211
        }
      ]
    },
    {
      "cell_type": "code",
      "source": [
        "from sympy import  N\n",
        "N(U)"
      ],
      "metadata": {
        "colab": {
          "base_uri": "https://localhost:8080/",
          "height": 79
        },
        "id": "lEWtqQq4z-_E",
        "outputId": "143d2e1f-9ef5-447f-d686-093c1b952e7a"
      },
      "execution_count": 212,
      "outputs": [
        {
          "output_type": "execute_result",
          "data": {
            "text/latex": "$\\displaystyle \\left[\\begin{matrix}6.0 & -6.0 & 7.0\\\\0 & -5.0 & 0.5\\\\0 & 0 & 1.33333333333333\\end{matrix}\\right]$",
            "text/plain": [
              "⎡6.0  -6.0        7.0       ⎤\n",
              "⎢                           ⎥\n",
              "⎢ 0   -5.0        0.5       ⎥\n",
              "⎢                           ⎥\n",
              "⎣ 0    0    1.33333333333333⎦"
            ]
          },
          "metadata": {},
          "execution_count": 212
        }
      ]
    },
    {
      "cell_type": "code",
      "source": [
        "# Now, generate a full rank matrix and test the naive implementation\n",
        "\n",
        "import sympy \n",
        "import numpy as np\n",
        "\n",
        "N = 6\n",
        "A = sympy.zeros(N)\n",
        "for i in range(N):\n",
        "    for j in range(N):\n",
        "        A[i, j] = 2 + sympy.Rational(1,i*j+1)\n",
        "\n",
        "A"
      ],
      "metadata": {
        "colab": {
          "base_uri": "https://localhost:8080/",
          "height": 140
        },
        "id": "wqtMmRTM0q-l",
        "outputId": "e4f30a81-0dd2-4ddd-8001-7a53d36dd3bb"
      },
      "execution_count": 213,
      "outputs": [
        {
          "output_type": "execute_result",
          "data": {
            "text/latex": "$\\displaystyle \\left[\\begin{matrix}3 & 3 & 3 & 3 & 3 & 3\\\\3 & \\frac{5}{2} & \\frac{7}{3} & \\frac{9}{4} & \\frac{11}{5} & \\frac{13}{6}\\\\3 & \\frac{7}{3} & \\frac{11}{5} & \\frac{15}{7} & \\frac{19}{9} & \\frac{23}{11}\\\\3 & \\frac{9}{4} & \\frac{15}{7} & \\frac{21}{10} & \\frac{27}{13} & \\frac{33}{16}\\\\3 & \\frac{11}{5} & \\frac{19}{9} & \\frac{27}{13} & \\frac{35}{17} & \\frac{43}{21}\\\\3 & \\frac{13}{6} & \\frac{23}{11} & \\frac{33}{16} & \\frac{43}{21} & \\frac{53}{26}\\end{matrix}\\right]$",
            "text/plain": [
              "⎡3   3     3     3     3     3  ⎤\n",
              "⎢                               ⎥\n",
              "⎢3  5/2   7/3   9/4   11/5  13/6⎥\n",
              "⎢                               ⎥\n",
              "⎢                            23 ⎥\n",
              "⎢3  7/3   11/5  15/7  19/9   ── ⎥\n",
              "⎢                            11 ⎥\n",
              "⎢                               ⎥\n",
              "⎢                21    27    33 ⎥\n",
              "⎢3  9/4   15/7   ──    ──    ── ⎥\n",
              "⎢                10    13    16 ⎥\n",
              "⎢                               ⎥\n",
              "⎢                27    35    43 ⎥\n",
              "⎢3  11/5  19/9   ──    ──    ── ⎥\n",
              "⎢                13    17    21 ⎥\n",
              "⎢                               ⎥\n",
              "⎢          23    33    43    53 ⎥\n",
              "⎢3  13/6   ──    ──    ──    ── ⎥\n",
              "⎣          11    16    21    26 ⎦"
            ]
          },
          "metadata": {},
          "execution_count": 213
        }
      ]
    },
    {
      "cell_type": "code",
      "source": [
        "np.array(A).astype(np.float64)"
      ],
      "metadata": {
        "colab": {
          "base_uri": "https://localhost:8080/"
        },
        "id": "ZvYZLTuV0wC9",
        "outputId": "f48ac263-a2dd-4238-b183-6c9617d044da"
      },
      "execution_count": 214,
      "outputs": [
        {
          "output_type": "execute_result",
          "data": {
            "text/plain": [
              "array([[3.        , 3.        , 3.        , 3.        , 3.        ,\n",
              "        3.        ],\n",
              "       [3.        , 2.5       , 2.33333333, 2.25      , 2.2       ,\n",
              "        2.16666667],\n",
              "       [3.        , 2.33333333, 2.2       , 2.14285714, 2.11111111,\n",
              "        2.09090909],\n",
              "       [3.        , 2.25      , 2.14285714, 2.1       , 2.07692308,\n",
              "        2.0625    ],\n",
              "       [3.        , 2.2       , 2.11111111, 2.07692308, 2.05882353,\n",
              "        2.04761905],\n",
              "       [3.        , 2.16666667, 2.09090909, 2.0625    , 2.04761905,\n",
              "        2.03846154]])"
            ]
          },
          "metadata": {},
          "execution_count": 214
        }
      ]
    },
    {
      "cell_type": "code",
      "source": [
        "np.linalg.matrix_rank(np.array(A).astype(np.float64))"
      ],
      "metadata": {
        "colab": {
          "base_uri": "https://localhost:8080/"
        },
        "id": "xz7BbxaS3KHG",
        "outputId": "c211e9ea-6265-45f5-af96-9549e3379cf6"
      },
      "execution_count": 215,
      "outputs": [
        {
          "output_type": "execute_result",
          "data": {
            "text/plain": [
              "6"
            ]
          },
          "metadata": {},
          "execution_count": 215
        }
      ]
    },
    {
      "cell_type": "code",
      "source": [
        "A[1, 1] = 3"
      ],
      "metadata": {
        "id": "hXXhpoCQ3WwU"
      },
      "execution_count": 216,
      "outputs": []
    },
    {
      "cell_type": "code",
      "source": [
        "A"
      ],
      "metadata": {
        "colab": {
          "base_uri": "https://localhost:8080/",
          "height": 140
        },
        "id": "5TGp8_iB3dmd",
        "outputId": "9f8f8816-cb88-418a-ca07-883931862ce6"
      },
      "execution_count": 217,
      "outputs": [
        {
          "output_type": "execute_result",
          "data": {
            "text/latex": "$\\displaystyle \\left[\\begin{matrix}3 & 3 & 3 & 3 & 3 & 3\\\\3 & 3 & \\frac{7}{3} & \\frac{9}{4} & \\frac{11}{5} & \\frac{13}{6}\\\\3 & \\frac{7}{3} & \\frac{11}{5} & \\frac{15}{7} & \\frac{19}{9} & \\frac{23}{11}\\\\3 & \\frac{9}{4} & \\frac{15}{7} & \\frac{21}{10} & \\frac{27}{13} & \\frac{33}{16}\\\\3 & \\frac{11}{5} & \\frac{19}{9} & \\frac{27}{13} & \\frac{35}{17} & \\frac{43}{21}\\\\3 & \\frac{13}{6} & \\frac{23}{11} & \\frac{33}{16} & \\frac{43}{21} & \\frac{53}{26}\\end{matrix}\\right]$",
            "text/plain": [
              "⎡3   3     3     3     3     3  ⎤\n",
              "⎢                               ⎥\n",
              "⎢3   3    7/3   9/4   11/5  13/6⎥\n",
              "⎢                               ⎥\n",
              "⎢                            23 ⎥\n",
              "⎢3  7/3   11/5  15/7  19/9   ── ⎥\n",
              "⎢                            11 ⎥\n",
              "⎢                               ⎥\n",
              "⎢                21    27    33 ⎥\n",
              "⎢3  9/4   15/7   ──    ──    ── ⎥\n",
              "⎢                10    13    16 ⎥\n",
              "⎢                               ⎥\n",
              "⎢                27    35    43 ⎥\n",
              "⎢3  11/5  19/9   ──    ──    ── ⎥\n",
              "⎢                13    17    21 ⎥\n",
              "⎢                               ⎥\n",
              "⎢          23    33    43    53 ⎥\n",
              "⎢3  13/6   ──    ──    ──    ── ⎥\n",
              "⎣          11    16    21    26 ⎦"
            ]
          },
          "metadata": {},
          "execution_count": 217
        }
      ]
    },
    {
      "cell_type": "code",
      "source": [
        "np.linalg.matrix_rank(np.array(A).astype(np.float64))"
      ],
      "metadata": {
        "colab": {
          "base_uri": "https://localhost:8080/"
        },
        "id": "5vZ1R6r83Zic",
        "outputId": "fbb0964c-20eb-4e4c-d099-e5339cf1a87f"
      },
      "execution_count": 218,
      "outputs": [
        {
          "output_type": "execute_result",
          "data": {
            "text/plain": [
              "6"
            ]
          },
          "metadata": {},
          "execution_count": 218
        }
      ]
    },
    {
      "cell_type": "code",
      "source": [
        "P,L,U = PLU(A,0)"
      ],
      "metadata": {
        "id": "YxIq0tH03cJc"
      },
      "execution_count": 219,
      "outputs": []
    },
    {
      "cell_type": "code",
      "source": [
        "P"
      ],
      "metadata": {
        "colab": {
          "base_uri": "https://localhost:8080/",
          "height": 140
        },
        "outputId": "566e9bb2-c563-4550-85b1-27c048f699a0",
        "id": "dC-BhXVF3y88"
      },
      "execution_count": 220,
      "outputs": [
        {
          "output_type": "execute_result",
          "data": {
            "text/latex": "$\\displaystyle \\left[\\begin{matrix}1 & 0 & 0 & 0 & 0 & 0\\\\0 & 1 & 0 & 0 & 0 & 0\\\\0 & 0 & 1 & 0 & 0 & 0\\\\0 & 0 & 0 & 1 & 0 & 0\\\\0 & 0 & 0 & 0 & 1 & 0\\\\0 & 0 & 0 & 0 & 0 & 1\\end{matrix}\\right]$",
            "text/plain": [
              "⎡1  0  0  0  0  0⎤\n",
              "⎢                ⎥\n",
              "⎢0  1  0  0  0  0⎥\n",
              "⎢                ⎥\n",
              "⎢0  0  1  0  0  0⎥\n",
              "⎢                ⎥\n",
              "⎢0  0  0  1  0  0⎥\n",
              "⎢                ⎥\n",
              "⎢0  0  0  0  1  0⎥\n",
              "⎢                ⎥\n",
              "⎣0  0  0  0  0  1⎦"
            ]
          },
          "metadata": {},
          "execution_count": 220
        }
      ]
    },
    {
      "cell_type": "code",
      "source": [
        "L"
      ],
      "metadata": {
        "colab": {
          "base_uri": "https://localhost:8080/",
          "height": 140
        },
        "id": "VoGS9ZR332tj",
        "outputId": "6eda8634-0b07-42ac-ab59-3ddf876bcd9a"
      },
      "execution_count": 221,
      "outputs": [
        {
          "output_type": "execute_result",
          "data": {
            "text/latex": "$\\displaystyle \\left[\\begin{matrix}1 & 0 & 0 & 0 & 0 & 0\\\\0 & 1 & 0 & 0 & 0 & 0\\\\0 & 0 & 1 & 0 & 0 & 0\\\\0 & 0 & 0 & 1 & 0 & 0\\\\0 & 0 & 0 & 0 & 1 & 0\\\\0 & 0 & 0 & 0 & 0 & 1\\end{matrix}\\right]$",
            "text/plain": [
              "⎡1  0  0  0  0  0⎤\n",
              "⎢                ⎥\n",
              "⎢0  1  0  0  0  0⎥\n",
              "⎢                ⎥\n",
              "⎢0  0  1  0  0  0⎥\n",
              "⎢                ⎥\n",
              "⎢0  0  0  1  0  0⎥\n",
              "⎢                ⎥\n",
              "⎢0  0  0  0  1  0⎥\n",
              "⎢                ⎥\n",
              "⎣0  0  0  0  0  1⎦"
            ]
          },
          "metadata": {},
          "execution_count": 221
        }
      ]
    },
    {
      "cell_type": "code",
      "source": [
        "U"
      ],
      "metadata": {
        "colab": {
          "base_uri": "https://localhost:8080/",
          "height": 140
        },
        "id": "D4cZ8Wjm33vj",
        "outputId": "42facbf0-f4ea-46ad-896a-a9daca235ba7"
      },
      "execution_count": 222,
      "outputs": [
        {
          "output_type": "execute_result",
          "data": {
            "text/latex": "$\\displaystyle \\left[\\begin{matrix}3 & 3 & 3 & 3 & 3 & 3\\\\3 & 3 & \\frac{7}{3} & \\frac{9}{4} & \\frac{11}{5} & \\frac{13}{6}\\\\3 & \\frac{7}{3} & \\frac{11}{5} & \\frac{15}{7} & \\frac{19}{9} & \\frac{23}{11}\\\\3 & \\frac{9}{4} & \\frac{15}{7} & \\frac{21}{10} & \\frac{27}{13} & \\frac{33}{16}\\\\3 & \\frac{11}{5} & \\frac{19}{9} & \\frac{27}{13} & \\frac{35}{17} & \\frac{43}{21}\\\\3 & \\frac{13}{6} & \\frac{23}{11} & \\frac{33}{16} & \\frac{43}{21} & \\frac{53}{26}\\end{matrix}\\right]$",
            "text/plain": [
              "⎡3   3     3     3     3     3  ⎤\n",
              "⎢                               ⎥\n",
              "⎢3   3    7/3   9/4   11/5  13/6⎥\n",
              "⎢                               ⎥\n",
              "⎢                            23 ⎥\n",
              "⎢3  7/3   11/5  15/7  19/9   ── ⎥\n",
              "⎢                            11 ⎥\n",
              "⎢                               ⎥\n",
              "⎢                21    27    33 ⎥\n",
              "⎢3  9/4   15/7   ──    ──    ── ⎥\n",
              "⎢                10    13    16 ⎥\n",
              "⎢                               ⎥\n",
              "⎢                27    35    43 ⎥\n",
              "⎢3  11/5  19/9   ──    ──    ── ⎥\n",
              "⎢                13    17    21 ⎥\n",
              "⎢                               ⎥\n",
              "⎢          23    33    43    53 ⎥\n",
              "⎢3  13/6   ──    ──    ──    ── ⎥\n",
              "⎣          11    16    21    26 ⎦"
            ]
          },
          "metadata": {},
          "execution_count": 222
        }
      ]
    },
    {
      "cell_type": "code",
      "source": [
        "P,L,U = PLU(A,1)"
      ],
      "metadata": {
        "id": "QpmBaVOf3mCq"
      },
      "execution_count": 223,
      "outputs": []
    },
    {
      "cell_type": "code",
      "source": [
        "P"
      ],
      "metadata": {
        "colab": {
          "base_uri": "https://localhost:8080/",
          "height": 140
        },
        "outputId": "55ee3b3c-6674-4eee-8b97-60db0fde3d8d",
        "id": "l-ZKz9cg3zKB"
      },
      "execution_count": 224,
      "outputs": [
        {
          "output_type": "execute_result",
          "data": {
            "text/latex": "$\\displaystyle \\left[\\begin{matrix}1 & 0 & 0 & 0 & 0 & 0\\\\0 & 1 & 0 & 0 & 0 & 0\\\\0 & 0 & 1 & 0 & 0 & 0\\\\0 & 0 & 0 & 1 & 0 & 0\\\\0 & 0 & 0 & 0 & 1 & 0\\\\0 & 0 & 0 & 0 & 0 & 1\\end{matrix}\\right]$",
            "text/plain": [
              "⎡1  0  0  0  0  0⎤\n",
              "⎢                ⎥\n",
              "⎢0  1  0  0  0  0⎥\n",
              "⎢                ⎥\n",
              "⎢0  0  1  0  0  0⎥\n",
              "⎢                ⎥\n",
              "⎢0  0  0  1  0  0⎥\n",
              "⎢                ⎥\n",
              "⎢0  0  0  0  1  0⎥\n",
              "⎢                ⎥\n",
              "⎣0  0  0  0  0  1⎦"
            ]
          },
          "metadata": {},
          "execution_count": 224
        }
      ]
    },
    {
      "cell_type": "code",
      "source": [
        "L"
      ],
      "metadata": {
        "colab": {
          "base_uri": "https://localhost:8080/",
          "height": 140
        },
        "id": "tEDalj5D3-bm",
        "outputId": "6f308035-cf0c-40c7-8afc-89cf491489e6"
      },
      "execution_count": 225,
      "outputs": [
        {
          "output_type": "execute_result",
          "data": {
            "text/latex": "$\\displaystyle \\left[\\begin{matrix}1 & 0 & 0 & 0 & 0 & 0\\\\-1 & 1 & 0 & 0 & 0 & 0\\\\-1 & 0 & 1 & 0 & 0 & 0\\\\-1 & 0 & 0 & 1 & 0 & 0\\\\-1 & 0 & 0 & 0 & 1 & 0\\\\-1 & 0 & 0 & 0 & 0 & 1\\end{matrix}\\right]$",
            "text/plain": [
              "⎡1   0  0  0  0  0⎤\n",
              "⎢                 ⎥\n",
              "⎢-1  1  0  0  0  0⎥\n",
              "⎢                 ⎥\n",
              "⎢-1  0  1  0  0  0⎥\n",
              "⎢                 ⎥\n",
              "⎢-1  0  0  1  0  0⎥\n",
              "⎢                 ⎥\n",
              "⎢-1  0  0  0  1  0⎥\n",
              "⎢                 ⎥\n",
              "⎣-1  0  0  0  0  1⎦"
            ]
          },
          "metadata": {},
          "execution_count": 225
        }
      ]
    },
    {
      "cell_type": "code",
      "source": [
        "U"
      ],
      "metadata": {
        "colab": {
          "base_uri": "https://localhost:8080/",
          "height": 140
        },
        "id": "5vcy8msi3_ir",
        "outputId": "c8282608-0c03-49af-99b0-691658166bc2"
      },
      "execution_count": 226,
      "outputs": [
        {
          "output_type": "execute_result",
          "data": {
            "text/latex": "$\\displaystyle \\left[\\begin{matrix}3 & 3 & 3 & 3 & 3 & 3\\\\0 & 0 & - \\frac{2}{3} & - \\frac{3}{4} & - \\frac{4}{5} & - \\frac{5}{6}\\\\0 & - \\frac{2}{3} & - \\frac{4}{5} & - \\frac{6}{7} & - \\frac{8}{9} & - \\frac{10}{11}\\\\0 & - \\frac{3}{4} & - \\frac{6}{7} & - \\frac{9}{10} & - \\frac{12}{13} & - \\frac{15}{16}\\\\0 & - \\frac{4}{5} & - \\frac{8}{9} & - \\frac{12}{13} & - \\frac{16}{17} & - \\frac{20}{21}\\\\0 & - \\frac{5}{6} & - \\frac{10}{11} & - \\frac{15}{16} & - \\frac{20}{21} & - \\frac{25}{26}\\end{matrix}\\right]$",
            "text/plain": [
              "⎡3   3     3      3     3     3  ⎤\n",
              "⎢                                ⎥\n",
              "⎢0   0    -2/3  -3/4   -4/5  -5/6⎥\n",
              "⎢                                ⎥\n",
              "⎢                            -10 ⎥\n",
              "⎢0  -2/3  -4/5  -6/7   -8/9  ────⎥\n",
              "⎢                             11 ⎥\n",
              "⎢                                ⎥\n",
              "⎢                      -12   -15 ⎥\n",
              "⎢0  -3/4  -6/7  -9/10  ────  ────⎥\n",
              "⎢                       13    16 ⎥\n",
              "⎢                                ⎥\n",
              "⎢               -12    -16   -20 ⎥\n",
              "⎢0  -4/5  -8/9  ────   ────  ────⎥\n",
              "⎢                13     17    21 ⎥\n",
              "⎢                                ⎥\n",
              "⎢         -10   -15    -20   -25 ⎥\n",
              "⎢0  -5/6  ────  ────   ────  ────⎥\n",
              "⎣          11    16     21    26 ⎦"
            ]
          },
          "metadata": {},
          "execution_count": 226
        }
      ]
    },
    {
      "cell_type": "code",
      "source": [
        "P,L,U = PLU(A,2)"
      ],
      "metadata": {
        "id": "MNQAe63E3oJo"
      },
      "execution_count": 227,
      "outputs": []
    },
    {
      "cell_type": "code",
      "source": [
        "P"
      ],
      "metadata": {
        "colab": {
          "base_uri": "https://localhost:8080/",
          "height": 140
        },
        "id": "jjDXHvHP4E2E",
        "outputId": "71b1d6a6-4700-451e-df4a-f1e87fc03f79"
      },
      "execution_count": 228,
      "outputs": [
        {
          "output_type": "execute_result",
          "data": {
            "text/latex": "$\\displaystyle \\left[\\begin{matrix}1 & 0 & 0 & 0 & 0 & 0\\\\0 & 0 & 0 & 0 & 0 & 1\\\\0 & 0 & 1 & 0 & 0 & 0\\\\0 & 0 & 0 & 1 & 0 & 0\\\\0 & 0 & 0 & 0 & 1 & 0\\\\0 & 1 & 0 & 0 & 0 & 0\\end{matrix}\\right]$",
            "text/plain": [
              "⎡1  0  0  0  0  0⎤\n",
              "⎢                ⎥\n",
              "⎢0  0  0  0  0  1⎥\n",
              "⎢                ⎥\n",
              "⎢0  0  1  0  0  0⎥\n",
              "⎢                ⎥\n",
              "⎢0  0  0  1  0  0⎥\n",
              "⎢                ⎥\n",
              "⎢0  0  0  0  1  0⎥\n",
              "⎢                ⎥\n",
              "⎣0  1  0  0  0  0⎦"
            ]
          },
          "metadata": {},
          "execution_count": 228
        }
      ]
    },
    {
      "cell_type": "code",
      "source": [
        "L"
      ],
      "metadata": {
        "colab": {
          "base_uri": "https://localhost:8080/",
          "height": 140
        },
        "id": "MjqUuewP4Gm0",
        "outputId": "e39bb7fc-3648-4f39-8274-561444a8c844"
      },
      "execution_count": 229,
      "outputs": [
        {
          "output_type": "execute_result",
          "data": {
            "text/latex": "$\\displaystyle \\left[\\begin{matrix}1 & 0 & 0 & 0 & 0 & 0\\\\-1 & 1 & 0 & 0 & 0 & 0\\\\-1 & - \\frac{4}{5} & 1 & 0 & 0 & 0\\\\-1 & - \\frac{9}{10} & 0 & 1 & 0 & 0\\\\-1 & - \\frac{24}{25} & 0 & 0 & 1 & 0\\\\-1 & 0 & 0 & 0 & 0 & 1\\end{matrix}\\right]$",
            "text/plain": [
              "⎡1     0    0  0  0  0⎤\n",
              "⎢                     ⎥\n",
              "⎢-1    1    0  0  0  0⎥\n",
              "⎢                     ⎥\n",
              "⎢-1  -4/5   1  0  0  0⎥\n",
              "⎢                     ⎥\n",
              "⎢-1  -9/10  0  1  0  0⎥\n",
              "⎢                     ⎥\n",
              "⎢    -24              ⎥\n",
              "⎢-1  ────   0  0  1  0⎥\n",
              "⎢     25              ⎥\n",
              "⎢                     ⎥\n",
              "⎣-1    0    0  0  0  1⎦"
            ]
          },
          "metadata": {},
          "execution_count": 229
        }
      ]
    },
    {
      "cell_type": "code",
      "source": [
        "U"
      ],
      "metadata": {
        "colab": {
          "base_uri": "https://localhost:8080/",
          "height": 140
        },
        "id": "WSPyFWrl4Hz2",
        "outputId": "a961cdde-bed4-464b-b361-cc7a0ab9e3d9"
      },
      "execution_count": 230,
      "outputs": [
        {
          "output_type": "execute_result",
          "data": {
            "text/latex": "$\\displaystyle \\left[\\begin{matrix}3 & 3 & 3 & 3 & 3 & 3\\\\0 & - \\frac{5}{6} & - \\frac{10}{11} & - \\frac{15}{16} & - \\frac{20}{21} & - \\frac{25}{26}\\\\0 & 0 & - \\frac{4}{55} & - \\frac{3}{28} & - \\frac{8}{63} & - \\frac{20}{143}\\\\0 & 0 & - \\frac{3}{77} & - \\frac{9}{160} & - \\frac{6}{91} & - \\frac{15}{208}\\\\0 & 0 & - \\frac{8}{495} & - \\frac{3}{130} & - \\frac{16}{595} & - \\frac{8}{273}\\\\0 & 0 & - \\frac{2}{3} & - \\frac{3}{4} & - \\frac{4}{5} & - \\frac{5}{6}\\end{matrix}\\right]$",
            "text/plain": [
              "⎡3   3      3       3       3      3   ⎤\n",
              "⎢                                      ⎥\n",
              "⎢          -10     -15    -20     -25  ⎥\n",
              "⎢0  -5/6   ────    ────   ────    ──── ⎥\n",
              "⎢           11      16     21      26  ⎥\n",
              "⎢                                      ⎥\n",
              "⎢                                 -20  ⎥\n",
              "⎢0   0    -4/55   -3/28   -8/63   ──── ⎥\n",
              "⎢                                 143  ⎥\n",
              "⎢                                      ⎥\n",
              "⎢                                 -15  ⎥\n",
              "⎢0   0    -3/77   -9/160  -6/91   ──── ⎥\n",
              "⎢                                 208  ⎥\n",
              "⎢                                      ⎥\n",
              "⎢                         -16          ⎥\n",
              "⎢0   0    -8/495  -3/130  ────   -8/273⎥\n",
              "⎢                         595          ⎥\n",
              "⎢                                      ⎥\n",
              "⎣0   0     -2/3    -3/4   -4/5    -5/6 ⎦"
            ]
          },
          "metadata": {},
          "execution_count": 230
        }
      ]
    },
    {
      "cell_type": "code",
      "source": [
        "P,L,U = PLU(A,3)"
      ],
      "metadata": {
        "id": "DSzs0LN33mYU"
      },
      "execution_count": 231,
      "outputs": []
    },
    {
      "cell_type": "code",
      "source": [
        "P"
      ],
      "metadata": {
        "colab": {
          "base_uri": "https://localhost:8080/",
          "height": 140
        },
        "id": "0XpSv-M_4VSW",
        "outputId": "8b2432b2-325d-40bd-f207-5d4bf9730200"
      },
      "execution_count": 232,
      "outputs": [
        {
          "output_type": "execute_result",
          "data": {
            "text/latex": "$\\displaystyle \\left[\\begin{matrix}1 & 0 & 0 & 0 & 0 & 0\\\\0 & 0 & 0 & 0 & 0 & 1\\\\0 & 1 & 0 & 0 & 0 & 0\\\\0 & 0 & 0 & 1 & 0 & 0\\\\0 & 0 & 0 & 0 & 1 & 0\\\\0 & 0 & 1 & 0 & 0 & 0\\end{matrix}\\right]$",
            "text/plain": [
              "⎡1  0  0  0  0  0⎤\n",
              "⎢                ⎥\n",
              "⎢0  0  0  0  0  1⎥\n",
              "⎢                ⎥\n",
              "⎢0  1  0  0  0  0⎥\n",
              "⎢                ⎥\n",
              "⎢0  0  0  1  0  0⎥\n",
              "⎢                ⎥\n",
              "⎢0  0  0  0  1  0⎥\n",
              "⎢                ⎥\n",
              "⎣0  0  1  0  0  0⎦"
            ]
          },
          "metadata": {},
          "execution_count": 232
        }
      ]
    },
    {
      "cell_type": "code",
      "source": [
        "L"
      ],
      "metadata": {
        "colab": {
          "base_uri": "https://localhost:8080/",
          "height": 140
        },
        "id": "Qd8qheQQ4WAM",
        "outputId": "6f9423cc-fa6f-4b52-f1fb-eeb3ecb68a4b"
      },
      "execution_count": 233,
      "outputs": [
        {
          "output_type": "execute_result",
          "data": {
            "text/latex": "$\\displaystyle \\left[\\begin{matrix}1 & 0 & 0 & 0 & 0 & 0\\\\-1 & 1 & 0 & 0 & 0 & 0\\\\-1 & 0 & 1 & 0 & 0 & 0\\\\-1 & - \\frac{9}{10} & - \\frac{9}{154} & 1 & 0 & 0\\\\-1 & - \\frac{24}{25} & - \\frac{4}{165} & 0 & 1 & 0\\\\-1 & - \\frac{4}{5} & - \\frac{6}{55} & 0 & 0 & 1\\end{matrix}\\right]$",
            "text/plain": [
              "⎡1     0      0     0  0  0⎤\n",
              "⎢                          ⎥\n",
              "⎢-1    1      0     0  0  0⎥\n",
              "⎢                          ⎥\n",
              "⎢-1    0      1     0  0  0⎥\n",
              "⎢                          ⎥\n",
              "⎢-1  -9/10  -9/154  1  0  0⎥\n",
              "⎢                          ⎥\n",
              "⎢    -24                   ⎥\n",
              "⎢-1  ────   -4/165  0  1  0⎥\n",
              "⎢     25                   ⎥\n",
              "⎢                          ⎥\n",
              "⎣-1  -4/5   -6/55   0  0  1⎦"
            ]
          },
          "metadata": {},
          "execution_count": 233
        }
      ]
    },
    {
      "cell_type": "code",
      "source": [
        "U"
      ],
      "metadata": {
        "colab": {
          "base_uri": "https://localhost:8080/",
          "height": 140
        },
        "id": "m3ccUX6f4Yhz",
        "outputId": "511e75fb-4cc9-4e62-94e0-f8ed6e01a02c"
      },
      "execution_count": 234,
      "outputs": [
        {
          "output_type": "execute_result",
          "data": {
            "text/latex": "$\\displaystyle \\left[\\begin{matrix}3 & 3 & 3 & 3 & 3 & 3\\\\0 & - \\frac{5}{6} & - \\frac{10}{11} & - \\frac{15}{16} & - \\frac{20}{21} & - \\frac{25}{26}\\\\0 & 0 & - \\frac{2}{3} & - \\frac{3}{4} & - \\frac{4}{5} & - \\frac{5}{6}\\\\0 & 0 & 0 & - \\frac{153}{12320} & - \\frac{96}{5005} & - \\frac{375}{16016}\\\\0 & 0 & 0 & - \\frac{7}{1430} & - \\frac{736}{98175} & - \\frac{82}{9009}\\\\0 & 0 & 0 & - \\frac{39}{1540} & - \\frac{688}{17325} & - \\frac{7}{143}\\end{matrix}\\right]$",
            "text/plain": [
              "⎡3   3     3       3       3      3   ⎤\n",
              "⎢                                     ⎥\n",
              "⎢         -10    -15     -20     -25  ⎥\n",
              "⎢0  -5/6  ────   ────    ────    ──── ⎥\n",
              "⎢          11     16      21      26  ⎥\n",
              "⎢                                     ⎥\n",
              "⎢0   0    -2/3   -3/4    -4/5    -5/6 ⎥\n",
              "⎢                                     ⎥\n",
              "⎢                -153    -96    -375  ⎥\n",
              "⎢0   0     0     ─────   ────   ───── ⎥\n",
              "⎢                12320   5005   16016 ⎥\n",
              "⎢                                     ⎥\n",
              "⎢                        -736    -82  ⎥\n",
              "⎢0   0     0    -7/1430  ─────   ──── ⎥\n",
              "⎢                        98175   9009 ⎥\n",
              "⎢                                     ⎥\n",
              "⎢                -39     -688         ⎥\n",
              "⎢0   0     0     ────    ─────  -7/143⎥\n",
              "⎣                1540    17325        ⎦"
            ]
          },
          "metadata": {},
          "execution_count": 234
        }
      ]
    },
    {
      "cell_type": "code",
      "source": [
        "P,L,U = PLU(A,4)"
      ],
      "metadata": {
        "id": "jpBFLp-L3mfd"
      },
      "execution_count": 235,
      "outputs": []
    },
    {
      "cell_type": "code",
      "source": [
        "P"
      ],
      "metadata": {
        "colab": {
          "base_uri": "https://localhost:8080/",
          "height": 140
        },
        "outputId": "d0ed261c-fffe-41df-90e3-e76dbcd1edf5",
        "id": "ksFa4z0g3zYG"
      },
      "execution_count": 236,
      "outputs": [
        {
          "output_type": "execute_result",
          "data": {
            "text/latex": "$\\displaystyle \\left[\\begin{matrix}1 & 0 & 0 & 0 & 0 & 0\\\\0 & 0 & 0 & 0 & 0 & 1\\\\0 & 1 & 0 & 0 & 0 & 0\\\\0 & 0 & 1 & 0 & 0 & 0\\\\0 & 0 & 0 & 0 & 1 & 0\\\\0 & 0 & 0 & 1 & 0 & 0\\end{matrix}\\right]$",
            "text/plain": [
              "⎡1  0  0  0  0  0⎤\n",
              "⎢                ⎥\n",
              "⎢0  0  0  0  0  1⎥\n",
              "⎢                ⎥\n",
              "⎢0  1  0  0  0  0⎥\n",
              "⎢                ⎥\n",
              "⎢0  0  1  0  0  0⎥\n",
              "⎢                ⎥\n",
              "⎢0  0  0  0  1  0⎥\n",
              "⎢                ⎥\n",
              "⎣0  0  0  1  0  0⎦"
            ]
          },
          "metadata": {},
          "execution_count": 236
        }
      ]
    },
    {
      "cell_type": "code",
      "source": [
        "L"
      ],
      "metadata": {
        "colab": {
          "base_uri": "https://localhost:8080/",
          "height": 140
        },
        "outputId": "cfa1ea92-7d12-4906-d6d4-f39b5470420c",
        "id": "I3G1R_Yj3zf1"
      },
      "execution_count": 237,
      "outputs": [
        {
          "output_type": "execute_result",
          "data": {
            "text/latex": "$\\displaystyle \\left[\\begin{matrix}1 & 0 & 0 & 0 & 0 & 0\\\\-1 & 1 & 0 & 0 & 0 & 0\\\\-1 & 0 & 1 & 0 & 0 & 0\\\\-1 & - \\frac{4}{5} & - \\frac{6}{55} & 1 & 0 & 0\\\\-1 & - \\frac{24}{25} & - \\frac{4}{165} & - \\frac{98}{507} & 1 & 0\\\\-1 & - \\frac{9}{10} & - \\frac{9}{154} & - \\frac{51}{104} & 0 & 1\\end{matrix}\\right]$",
            "text/plain": [
              "⎡1     0      0      0    0  0⎤\n",
              "⎢                             ⎥\n",
              "⎢-1    1      0      0    0  0⎥\n",
              "⎢                             ⎥\n",
              "⎢-1    0      1      0    0  0⎥\n",
              "⎢                             ⎥\n",
              "⎢-1  -4/5   -6/55    1    0  0⎥\n",
              "⎢                             ⎥\n",
              "⎢    -24            -98       ⎥\n",
              "⎢-1  ────   -4/165  ────  1  0⎥\n",
              "⎢     25            507       ⎥\n",
              "⎢                             ⎥\n",
              "⎢                   -51       ⎥\n",
              "⎢-1  -9/10  -9/154  ────  0  1⎥\n",
              "⎣                   104       ⎦"
            ]
          },
          "metadata": {},
          "execution_count": 237
        }
      ]
    },
    {
      "cell_type": "code",
      "source": [
        "U"
      ],
      "metadata": {
        "colab": {
          "base_uri": "https://localhost:8080/",
          "height": 140
        },
        "outputId": "04892826-afa6-434e-9053-896ab5e886df",
        "id": "SXUKqT8Q3zo5"
      },
      "execution_count": 238,
      "outputs": [
        {
          "output_type": "execute_result",
          "data": {
            "text/latex": "$\\displaystyle \\left[\\begin{matrix}3 & 3 & 3 & 3 & 3 & 3\\\\0 & - \\frac{5}{6} & - \\frac{10}{11} & - \\frac{15}{16} & - \\frac{20}{21} & - \\frac{25}{26}\\\\0 & 0 & - \\frac{2}{3} & - \\frac{3}{4} & - \\frac{4}{5} & - \\frac{5}{6}\\\\0 & 0 & 0 & - \\frac{39}{1540} & - \\frac{688}{17325} & - \\frac{7}{143}\\\\0 & 0 & 0 & 0 & \\frac{2432}{13574925} & \\frac{548}{1522521}\\\\0 & 0 & 0 & 0 & \\frac{2}{6825} & \\frac{123}{208208}\\end{matrix}\\right]$",
            "text/plain": [
              "⎡3   3     3     3       3         3   ⎤\n",
              "⎢                                      ⎥\n",
              "⎢         -10   -15     -20      -25   ⎥\n",
              "⎢0  -5/6  ────  ────    ────     ────  ⎥\n",
              "⎢          11    16      21       26   ⎥\n",
              "⎢                                      ⎥\n",
              "⎢0   0    -2/3  -3/4    -4/5     -5/6  ⎥\n",
              "⎢                                      ⎥\n",
              "⎢               -39    -688            ⎥\n",
              "⎢0   0     0    ────   ─────    -7/143 ⎥\n",
              "⎢               1540   17325           ⎥\n",
              "⎢                                      ⎥\n",
              "⎢                       2432      548  ⎥\n",
              "⎢0   0     0     0    ────────  ───────⎥\n",
              "⎢                     13574925  1522521⎥\n",
              "⎢                                      ⎥\n",
              "⎢                                123   ⎥\n",
              "⎢0   0     0     0     2/6825   ────── ⎥\n",
              "⎣                               208208 ⎦"
            ]
          },
          "metadata": {},
          "execution_count": 238
        }
      ]
    },
    {
      "cell_type": "code",
      "source": [
        "P,L,U = PLU(A,5)"
      ],
      "metadata": {
        "id": "HcG_6dUr4jzs"
      },
      "execution_count": 239,
      "outputs": []
    },
    {
      "cell_type": "code",
      "source": [
        "P"
      ],
      "metadata": {
        "colab": {
          "base_uri": "https://localhost:8080/",
          "height": 140
        },
        "id": "qnH2JLRu4mM1",
        "outputId": "f1fe365f-1296-46a1-bc1c-c3174a30830a"
      },
      "execution_count": 240,
      "outputs": [
        {
          "output_type": "execute_result",
          "data": {
            "text/latex": "$\\displaystyle \\left[\\begin{matrix}1 & 0 & 0 & 0 & 0 & 0\\\\0 & 0 & 0 & 0 & 0 & 1\\\\0 & 1 & 0 & 0 & 0 & 0\\\\0 & 0 & 1 & 0 & 0 & 0\\\\0 & 0 & 0 & 1 & 0 & 0\\\\0 & 0 & 0 & 0 & 1 & 0\\end{matrix}\\right]$",
            "text/plain": [
              "⎡1  0  0  0  0  0⎤\n",
              "⎢                ⎥\n",
              "⎢0  0  0  0  0  1⎥\n",
              "⎢                ⎥\n",
              "⎢0  1  0  0  0  0⎥\n",
              "⎢                ⎥\n",
              "⎢0  0  1  0  0  0⎥\n",
              "⎢                ⎥\n",
              "⎢0  0  0  1  0  0⎥\n",
              "⎢                ⎥\n",
              "⎣0  0  0  0  1  0⎦"
            ]
          },
          "metadata": {},
          "execution_count": 240
        }
      ]
    },
    {
      "cell_type": "code",
      "source": [
        "L"
      ],
      "metadata": {
        "colab": {
          "base_uri": "https://localhost:8080/",
          "height": 140
        },
        "id": "5mBFJUhZ4mu9",
        "outputId": "24ba9386-e077-4e8c-f947-909c019ca140"
      },
      "execution_count": 241,
      "outputs": [
        {
          "output_type": "execute_result",
          "data": {
            "text/latex": "$\\displaystyle \\left[\\begin{matrix}1 & 0 & 0 & 0 & 0 & 0\\\\-1 & 1 & 0 & 0 & 0 & 0\\\\-1 & 0 & 1 & 0 & 0 & 0\\\\-1 & - \\frac{4}{5} & - \\frac{6}{55} & 1 & 0 & 0\\\\-1 & - \\frac{9}{10} & - \\frac{9}{154} & - \\frac{51}{104} & 1 & 0\\\\-1 & - \\frac{24}{25} & - \\frac{4}{165} & - \\frac{98}{507} & - \\frac{1216}{1989} & 1\\end{matrix}\\right]$",
            "text/plain": [
              "⎡1     0      0      0      0     0⎤\n",
              "⎢                                  ⎥\n",
              "⎢-1    1      0      0      0     0⎥\n",
              "⎢                                  ⎥\n",
              "⎢-1    0      1      0      0     0⎥\n",
              "⎢                                  ⎥\n",
              "⎢-1  -4/5   -6/55    1      0     0⎥\n",
              "⎢                                  ⎥\n",
              "⎢                   -51            ⎥\n",
              "⎢-1  -9/10  -9/154  ────    1     0⎥\n",
              "⎢                   104            ⎥\n",
              "⎢                                  ⎥\n",
              "⎢    -24            -98   -1216    ⎥\n",
              "⎢-1  ────   -4/165  ────  ──────  1⎥\n",
              "⎣     25            507    1989    ⎦"
            ]
          },
          "metadata": {},
          "execution_count": 241
        }
      ]
    },
    {
      "cell_type": "code",
      "source": [
        "U"
      ],
      "metadata": {
        "colab": {
          "base_uri": "https://localhost:8080/",
          "height": 140
        },
        "id": "gnrlu8H_4nhE",
        "outputId": "0a708281-0c23-417c-f25e-080bce3edfae"
      },
      "execution_count": 242,
      "outputs": [
        {
          "output_type": "execute_result",
          "data": {
            "text/latex": "$\\displaystyle \\left[\\begin{matrix}3 & 3 & 3 & 3 & 3 & 3\\\\0 & - \\frac{5}{6} & - \\frac{10}{11} & - \\frac{15}{16} & - \\frac{20}{21} & - \\frac{25}{26}\\\\0 & 0 & - \\frac{2}{3} & - \\frac{3}{4} & - \\frac{4}{5} & - \\frac{5}{6}\\\\0 & 0 & 0 & - \\frac{39}{1540} & - \\frac{688}{17325} & - \\frac{7}{143}\\\\0 & 0 & 0 & 0 & \\frac{2}{6825} & \\frac{123}{208208}\\\\0 & 0 & 0 & 0 & 0 & - \\frac{32}{25882857}\\end{matrix}\\right]$",
            "text/plain": [
              "⎡3   3     3     3      3        3    ⎤\n",
              "⎢                                     ⎥\n",
              "⎢         -10   -15    -20      -25   ⎥\n",
              "⎢0  -5/6  ────  ────   ────     ────  ⎥\n",
              "⎢          11    16     21       26   ⎥\n",
              "⎢                                     ⎥\n",
              "⎢0   0    -2/3  -3/4   -4/5     -5/6  ⎥\n",
              "⎢                                     ⎥\n",
              "⎢               -39   -688            ⎥\n",
              "⎢0   0     0    ────  ─────    -7/143 ⎥\n",
              "⎢               1540  17325           ⎥\n",
              "⎢                                     ⎥\n",
              "⎢                               123   ⎥\n",
              "⎢0   0     0     0    2/6825   ────── ⎥\n",
              "⎢                              208208 ⎥\n",
              "⎢                                     ⎥\n",
              "⎢                               -32   ⎥\n",
              "⎢0   0     0     0      0     ────────⎥\n",
              "⎣                             25882857⎦"
            ]
          },
          "metadata": {},
          "execution_count": 242
        }
      ]
    },
    {
      "cell_type": "code",
      "source": [
        "from sympy import  N\n",
        "N(U)\n"
      ],
      "metadata": {
        "colab": {
          "base_uri": "https://localhost:8080/",
          "height": 160
        },
        "id": "oy9KqpN85ecV",
        "outputId": "1b3f842a-9227-4f6b-ae95-40ad72d5ec27"
      },
      "execution_count": 243,
      "outputs": [
        {
          "output_type": "execute_result",
          "data": {
            "text/latex": "$\\displaystyle \\left[\\begin{matrix}3.0 & 3.0 & 3.0 & 3.0 & 3.0 & 3.0\\\\0 & -0.833333333333333 & -0.909090909090909 & -0.9375 & -0.952380952380952 & -0.961538461538462\\\\0 & 0 & -0.666666666666667 & -0.75 & -0.8 & -0.833333333333333\\\\0 & 0 & 0 & -0.0253246753246753 & -0.0397113997113997 & -0.048951048951049\\\\0 & 0 & 0 & 0 & 0.000293040293040293 & 0.000590755398447706\\\\0 & 0 & 0 & 0 & 0 & -1.23633955865073 \\cdot 10^{-6}\\end{matrix}\\right]$",
            "text/plain": [
              "⎡3.0         3.0                 3.0                  3.0                  3.0\n",
              "⎢                                                                             \n",
              "⎢ 0   -0.833333333333333  -0.909090909090909        -0.9375         -0.9523809\n",
              "⎢                                                                             \n",
              "⎢ 0           0           -0.666666666666667         -0.75                 -0.\n",
              "⎢                                                                             \n",
              "⎢ 0           0                   0           -0.0253246753246753  -0.03971139\n",
              "⎢                                                                             \n",
              "⎢ 0           0                   0                    0           0.000293040\n",
              "⎢                                                                             \n",
              "⎣ 0           0                   0                    0                    0 \n",
              "\n",
              "                   3.0         ⎤\n",
              "                               ⎥\n",
              "52380952    -0.961538461538462 ⎥\n",
              "                               ⎥\n",
              "8           -0.833333333333333 ⎥\n",
              "                               ⎥\n",
              "97113997    -0.048951048951049 ⎥\n",
              "                               ⎥\n",
              "293040293  0.000590755398447706⎥\n",
              "                               ⎥\n",
              "           -1.23633955865073e-6⎦"
            ]
          },
          "metadata": {},
          "execution_count": 243
        }
      ]
    }
  ]
}